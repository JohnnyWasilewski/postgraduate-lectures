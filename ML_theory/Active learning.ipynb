{
 "cells": [
  {
   "cell_type": "markdown",
   "id": "6289be33",
   "metadata": {},
   "source": [
    "# Uczenie aktywne (Active learning)\n",
    "Uczenie aktywne jest przykładem zagadnienia uczenia maszynowego w którym algorytm może poprosić o etykiety niektórych danych. Obecnie stosuje się wiele strategii wyboru danych do etykietowania. Jedna z najprostszych metod polega na wyborze danych które dadzą najwięcej informacji, tj. danych których model jest najbardziej niepewny."
   ]
  },
  {
   "cell_type": "code",
   "execution_count": 7,
   "id": "73c6adda",
   "metadata": {},
   "outputs": [],
   "source": [
    "import matplotlib.pyplot as plt\n",
    "import numpy as np\n",
    "from sklearn.model_selection import train_test_split\n",
    "from sklearn.linear_model import LogisticRegression\n",
    "from sklearn.datasets import make_classification"
   ]
  },
  {
   "cell_type": "code",
   "execution_count": 40,
   "id": "e8a8f6e2",
   "metadata": {},
   "outputs": [],
   "source": [
    "X, y = make_classification(200, class_sep = 0.9)\n",
    "X_train_original, X_test, y_train_original, y_test = train_test_split(X, y)"
   ]
  },
  {
   "cell_type": "code",
   "execution_count": 41,
   "id": "7ba996a7",
   "metadata": {},
   "outputs": [],
   "source": [
    "from sklearn.metrics import accuracy_score\n",
    "\n",
    "sizes = np.arange(10, X_train_original.shape[0], step=10)\n",
    "scores_random, scores_active = list(), list()\n",
    "X_train = X_train_original.copy()\n",
    "y_train = y_train_original.copy()\n",
    "X_train_random = X_train.copy()\n",
    "y_train_random = y_train.copy()"
   ]
  },
  {
   "cell_type": "code",
   "execution_count": 42,
   "id": "b8fd8f09",
   "metadata": {},
   "outputs": [],
   "source": [
    "for train_dataset_size in sizes:\n",
    "    lr = LogisticRegression(penalty='l1', solver='liblinear')\n",
    "    lr.fit(X_train[:train_dataset_size], y_train[:train_dataset_size])\n",
    "    y_pred=lr.predict_proba(X_train[train_dataset_size:])[:, 1]\n",
    "    scores_active.append(lr.score(X, y))\n",
    "    indxs = np.abs(y_pred-0.5).argsort()\n",
    "    X_train = np.concatenate((X_train[:train_dataset_size], X_train[train_dataset_size:][indxs]), axis=0)\n",
    "    y_train = np.concatenate((y_train[:train_dataset_size], y_train[train_dataset_size:][indxs]), axis=0)\n",
    "    \n",
    "    \n",
    "    lr_random = LogisticRegression(penalty='l1', solver='liblinear')\n",
    "    lr_random.fit(X_train_random[:train_dataset_size], y_train_random[:train_dataset_size])\n",
    "    scores_random.append(lr_random.score(X, y))"
   ]
  },
  {
   "cell_type": "code",
   "execution_count": 43,
   "id": "021b1124",
   "metadata": {},
   "outputs": [
    {
     "data": {
      "text/plain": [
       "<matplotlib.collections.PathCollection at 0x7f3f0e4c0580>"
      ]
     },
     "execution_count": 43,
     "metadata": {},
     "output_type": "execute_result"
    },
    {
     "data": {
      "image/png": "[encoded data removed]",
      "text/plain": [
       "<Figure size 432x288 with 1 Axes>"
      ]
     },
     "metadata": {
      "needs_background": "light"
     },
     "output_type": "display_data"
    }
   ],
   "source": [
    "plt.scatter(sizes, scores_random, c='red')\n",
    "plt.scatter(sizes, scores_active, c='blue')"
   ]
  },
  {
   "cell_type": "code",
   "execution_count": 6,
   "id": "3b7c5a13",
   "metadata": {},
   "outputs": [
    {
     "name": "stdout",
     "output_type": "stream",
     "text": [
      "[0.54, 0.865, 0.925, 0.935, 0.94, 0.94, 0.93, 0.935, 0.935, 0.935, 0.935, 0.94, 0.94, 0.94]\n",
      "[0.54, 0.885, 0.9, 0.905, 0.91, 0.91, 0.9, 0.92, 0.93, 0.925, 0.93, 0.93, 0.94, 0.94]\n"
     ]
    }
   ],
   "source": [
    "print(scores_active)\n",
    "print(scores_random)"
   ]
  }
 ],
 "metadata": {
  "kernelspec": {
   "display_name": "Python 3 (ipykernel)",
   "language": "python",
   "name": "python3"
  },
  "language_info": {
   "codemirror_mode": {
    "name": "ipython",
    "version": 3
   },
   "file_extension": ".py",
   "mimetype": "text/x-python",
   "name": "python",
   "nbconvert_exporter": "python",
   "pygments_lexer": "ipython3",
   "version": "3.8.10"
  }
 },
 "nbformat": 4,
 "nbformat_minor": 5
}
